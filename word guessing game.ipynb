{
 "cells": [
  {
   "cell_type": "code",
   "execution_count": null,
   "id": "7c0f97d0-ae20-42bf-9fab-79cbb029dc4d",
   "metadata": {},
   "outputs": [
    {
     "name": "stdin",
     "output_type": "stream",
     "text": [
      "What is your name?  divya\n"
     ]
    },
    {
     "name": "stdout",
     "output_type": "stream",
     "text": [
      "Good Luck !  divya\n",
      "Guess the characters\n",
      "_\n",
      "_\n",
      "_\n",
      "_\n",
      "_\n",
      "_\n",
      "_\n",
      "\n"
     ]
    },
    {
     "name": "stdin",
     "output_type": "stream",
     "text": [
      "guess a character: w\n"
     ]
    },
    {
     "name": "stdout",
     "output_type": "stream",
     "text": [
      "Wrong\n",
      "You have 11 more guesses\n",
      "_\n",
      "_\n",
      "_\n",
      "_\n",
      "_\n",
      "_\n",
      "_\n",
      "\n"
     ]
    },
    {
     "name": "stdin",
     "output_type": "stream",
     "text": [
      "guess a character: r\n"
     ]
    },
    {
     "name": "stdout",
     "output_type": "stream",
     "text": [
      "Wrong\n",
      "You have 10 more guesses\n",
      "_\n",
      "_\n",
      "_\n",
      "_\n",
      "_\n",
      "_\n",
      "_\n",
      "\n"
     ]
    },
    {
     "name": "stdin",
     "output_type": "stream",
     "text": [
      "guess a character: t\n"
     ]
    },
    {
     "name": "stdout",
     "output_type": "stream",
     "text": [
      "Wrong\n",
      "You have 9 more guesses\n",
      "_\n",
      "_\n",
      "_\n",
      "_\n",
      "_\n",
      "_\n",
      "_\n",
      "\n"
     ]
    },
    {
     "name": "stdin",
     "output_type": "stream",
     "text": [
      "guess a character: a\n"
     ]
    },
    {
     "name": "stdout",
     "output_type": "stream",
     "text": [
      "Wrong\n",
      "You have 8 more guesses\n",
      "_\n",
      "_\n",
      "_\n",
      "_\n",
      "_\n",
      "_\n",
      "_\n",
      "\n"
     ]
    },
    {
     "name": "stdin",
     "output_type": "stream",
     "text": [
      "guess a character: p\n"
     ]
    },
    {
     "name": "stdout",
     "output_type": "stream",
     "text": [
      "Wrong\n",
      "You have 7 more guesses\n",
      "_\n",
      "_\n",
      "_\n",
      "_\n",
      "_\n",
      "_\n",
      "_\n",
      "\n"
     ]
    },
    {
     "name": "stdin",
     "output_type": "stream",
     "text": [
      "guess a character: y\n"
     ]
    },
    {
     "name": "stdout",
     "output_type": "stream",
     "text": [
      "Wrong\n",
      "You have 6 more guesses\n",
      "_\n",
      "_\n",
      "_\n",
      "_\n",
      "_\n",
      "_\n",
      "_\n",
      "\n"
     ]
    },
    {
     "name": "stdin",
     "output_type": "stream",
     "text": [
      "guess a character: t\n"
     ]
    },
    {
     "name": "stdout",
     "output_type": "stream",
     "text": [
      "Wrong\n",
      "You have 5 more guesses\n",
      "_\n",
      "_\n",
      "_\n",
      "_\n",
      "_\n",
      "_\n",
      "_\n",
      "\n"
     ]
    },
    {
     "name": "stdin",
     "output_type": "stream",
     "text": [
      "guess a character: h\n"
     ]
    },
    {
     "name": "stdout",
     "output_type": "stream",
     "text": [
      "Wrong\n",
      "You have 4 more guesses\n",
      "_\n",
      "_\n",
      "_\n",
      "_\n",
      "_\n",
      "_\n",
      "_\n",
      "\n"
     ]
    },
    {
     "name": "stdin",
     "output_type": "stream",
     "text": [
      "guess a character: o\n"
     ]
    },
    {
     "name": "stdout",
     "output_type": "stream",
     "text": [
      "Wrong\n",
      "You have 3 more guesses\n",
      "_\n",
      "_\n",
      "_\n",
      "_\n",
      "_\n",
      "_\n",
      "_\n",
      "\n"
     ]
    },
    {
     "name": "stdin",
     "output_type": "stream",
     "text": [
      "guess a character: n\n"
     ]
    },
    {
     "name": "stdout",
     "output_type": "stream",
     "text": [
      "_\n",
      "_\n",
      "_\n",
      "_\n",
      "n _\n",
      "_\n",
      "\n"
     ]
    },
    {
     "name": "stdin",
     "output_type": "stream",
     "text": [
      "guess a character: e\n"
     ]
    },
    {
     "name": "stdout",
     "output_type": "stream",
     "text": [
      "_\n",
      "_\n",
      "_\n",
      "e n _\n",
      "e \n"
     ]
    }
   ],
   "source": [
    "import random\n",
    "\n",
    "name = input(\"What is your name? \")\n",
    "\n",
    "print(\"Good Luck ! \", name)\n",
    "\n",
    "words = ['rainbow', 'computer', 'science', 'programming',\n",
    "         'python', 'mathematics', 'player', 'condition',\n",
    "         'reverse', 'water', 'board', 'geeks']\n",
    "\n",
    "word = random.choice(words)\n",
    "\n",
    "print(\"Guess the characters\")\n",
    "\n",
    "guesses = ''\n",
    "turns = 12\n",
    "\n",
    "while turns > 0:\n",
    "\n",
    "    failed = 0\n",
    "\n",
    "    for char in word:\n",
    "\n",
    "        if char in guesses:\n",
    "            print(char, end=\" \")\n",
    "\n",
    "        else:\n",
    "            print(\"_\")\n",
    "            failed += 1\n",
    "\n",
    "    if failed == 0:\n",
    "        print(\"You Win\")\n",
    "        print(\"The word is: \", word)\n",
    "        break\n",
    "\n",
    "    print()\n",
    "    guess = input(\"guess a character:\")\n",
    "\n",
    "    guesses += guess\n",
    "\n",
    "    if guess not in word:\n",
    "\n",
    "        turns -= 1\n",
    "        print(\"Wrong\")\n",
    "        print(\"You have\", + turns, 'more guesses')\n",
    "\n",
    "        if turns == 0:\n",
    "            print(\"You Loose\")\n"
   ]
  },
  {
   "cell_type": "code",
   "execution_count": null,
   "id": "bb4654fc-b574-4bae-a714-baf7a5c552b1",
   "metadata": {},
   "outputs": [],
   "source": []
  }
 ],
 "metadata": {
  "kernelspec": {
   "display_name": "Python 3 (ipykernel)",
   "language": "python",
   "name": "python3"
  },
  "language_info": {
   "codemirror_mode": {
    "name": "ipython",
    "version": 3
   },
   "file_extension": ".py",
   "mimetype": "text/x-python",
   "name": "python",
   "nbconvert_exporter": "python",
   "pygments_lexer": "ipython3",
   "version": "3.10.8"
  }
 },
 "nbformat": 4,
 "nbformat_minor": 5
}
